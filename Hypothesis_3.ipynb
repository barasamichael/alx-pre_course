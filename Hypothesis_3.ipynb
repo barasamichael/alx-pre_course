{
 "cells": [
  {
   "cell_type": "markdown",
   "id": "083521f1",
   "metadata": {},
   "source": [
    "## <span style = \"color:#1A237E;\">Hypothesis Three</span>\n",
    "### <span style = \"color:green;\">Null Hypothesis</span>\n",
    "1. There is no significant relationship between Headcount Rate (%) and Severity of Poverty (%).\n",
    "2. There is no significant relationship between Poverty Gap (%) and Severity of Poverty (%).\n",
    "3. There is no significant relationship between Distribution of the Poor (%) and Severity of Poverty (%).\n",
    "### <span style = \"color:green;\">Alternative Hypothesis</span>\n",
    "1. There is a significant relationship between Headcount Rate (%) and Severity of Poverty (%).\n",
    "2. There is a significant relationship between Poverty Gap (%) and Severity of Poverty (%).\n",
    "3. There is a significant relationship between Distribution of the Poor (%) and Severity of Poverty (%).\n",
    "### <span style = \"color:green;\">Relevance</span>\n",
    "By exploring the relationships between poverty indicators, such as headcount rate, poverty gap, and distribution of the poor, with the severity of poverty, we can gain insights into the key drivers of poverty in the country and inform policy and intervention strategies."
   ]
  },
  {
   "cell_type": "code",
   "execution_count": 1,
   "id": "678766ae",
   "metadata": {},
   "outputs": [],
   "source": [
    "# Import required libraries\n",
    "import pandas as pd\n",
    "import numpy as np\n",
    "import statsmodels.api as sm\n",
    "import warnings\n",
    "\n",
    "warnings.filterwarnings('ignore')"
   ]
  },
  {
   "cell_type": "code",
   "execution_count": 2,
   "id": "f020616b",
   "metadata": {},
   "outputs": [
    {
     "name": "stdout",
     "output_type": "stream",
     "text": [
      "Index(['residence_county', 'Headcount Rate (%)', 'Severity of Poverty (%)',\n",
      "       'Population (ths)', 'Number of Poor (ths)',\n",
      "       'Proportion of households that sought credit (%)',\n",
      "       'Proportion of households that sought and accessed credit (%)',\n",
      "       'Number of Households that sought credit (ths)',\n",
      "       'Distribution of the Poor (%)', 'Poverty Gap (%)'],\n",
      "      dtype='object')\n"
     ]
    }
   ],
   "source": [
    "# Extract dataset\n",
    "data = pd.read_csv('overall_poverty_est.csv')\n",
    "data.head()\n",
    "\n",
    "print(data.columns)"
   ]
  },
  {
   "cell_type": "code",
   "execution_count": 3,
   "id": "4ca1bcc4",
   "metadata": {},
   "outputs": [
    {
     "data": {
      "text/plain": [
       "(47, 10)"
      ]
     },
     "execution_count": 3,
     "metadata": {},
     "output_type": "execute_result"
    }
   ],
   "source": [
    "# Display number of rows and columns\n",
    "data.shape"
   ]
  },
  {
   "cell_type": "code",
   "execution_count": 4,
   "id": "db4fa836",
   "metadata": {},
   "outputs": [
    {
     "data": {
      "text/plain": [
       "Index(['residence_county', 'Headcount Rate (%)', 'Severity of Poverty (%)',\n",
       "       'Population (ths)', 'Number of Poor (ths)',\n",
       "       'Proportion of households that sought credit (%)',\n",
       "       'Proportion of households that sought and accessed credit (%)',\n",
       "       'Number of Households that sought credit (ths)',\n",
       "       'Distribution of the Poor (%)', 'Poverty Gap (%)'],\n",
       "      dtype='object')"
      ]
     },
     "execution_count": 4,
     "metadata": {},
     "output_type": "execute_result"
    }
   ],
   "source": [
    "# Display the columns headers in our dataset\n",
    "data.columns"
   ]
  },
  {
   "cell_type": "code",
   "execution_count": 5,
   "id": "85eb4ee4",
   "metadata": {},
   "outputs": [
    {
     "data": {
      "text/html": [
       "<div>\n",
       "<style scoped>\n",
       "    .dataframe tbody tr th:only-of-type {\n",
       "        vertical-align: middle;\n",
       "    }\n",
       "\n",
       "    .dataframe tbody tr th {\n",
       "        vertical-align: top;\n",
       "    }\n",
       "\n",
       "    .dataframe thead th {\n",
       "        text-align: right;\n",
       "    }\n",
       "</style>\n",
       "<table border=\"1\" class=\"dataframe\">\n",
       "  <thead>\n",
       "    <tr style=\"text-align: right;\">\n",
       "      <th></th>\n",
       "      <th>Headcount Rate (%)</th>\n",
       "      <th>Severity of Poverty (%)</th>\n",
       "      <th>Number of Poor (ths)</th>\n",
       "      <th>Proportion of households that sought credit (%)</th>\n",
       "      <th>Proportion of households that sought and accessed credit (%)</th>\n",
       "      <th>Number of Households that sought credit (ths)</th>\n",
       "      <th>Distribution of the Poor (%)</th>\n",
       "      <th>Poverty Gap (%)</th>\n",
       "    </tr>\n",
       "  </thead>\n",
       "  <tbody>\n",
       "    <tr>\n",
       "      <th>count</th>\n",
       "      <td>47.000000</td>\n",
       "      <td>47.000000</td>\n",
       "      <td>47.000000</td>\n",
       "      <td>47.000000</td>\n",
       "      <td>47.000000</td>\n",
       "      <td>47.000000</td>\n",
       "      <td>47.000000</td>\n",
       "      <td>47.000000</td>\n",
       "    </tr>\n",
       "    <tr>\n",
       "      <th>mean</th>\n",
       "      <td>40.557447</td>\n",
       "      <td>5.306383</td>\n",
       "      <td>349.042553</td>\n",
       "      <td>33.082979</td>\n",
       "      <td>85.814894</td>\n",
       "      <td>81.851064</td>\n",
       "      <td>2.127660</td>\n",
       "      <td>10.314894</td>\n",
       "    </tr>\n",
       "    <tr>\n",
       "      <th>std</th>\n",
       "      <td>16.291085</td>\n",
       "      <td>5.254911</td>\n",
       "      <td>182.080125</td>\n",
       "      <td>16.187170</td>\n",
       "      <td>16.561138</td>\n",
       "      <td>79.732972</td>\n",
       "      <td>1.142404</td>\n",
       "      <td>6.053852</td>\n",
       "    </tr>\n",
       "    <tr>\n",
       "      <th>min</th>\n",
       "      <td>16.700000</td>\n",
       "      <td>0.500000</td>\n",
       "      <td>36.000000</td>\n",
       "      <td>5.500000</td>\n",
       "      <td>33.900000</td>\n",
       "      <td>4.000000</td>\n",
       "      <td>0.200000</td>\n",
       "      <td>3.000000</td>\n",
       "    </tr>\n",
       "    <tr>\n",
       "      <th>25%</th>\n",
       "      <td>28.800000</td>\n",
       "      <td>2.500000</td>\n",
       "      <td>231.000000</td>\n",
       "      <td>21.300000</td>\n",
       "      <td>84.050000</td>\n",
       "      <td>39.500000</td>\n",
       "      <td>1.300000</td>\n",
       "      <td>6.750000</td>\n",
       "    </tr>\n",
       "    <tr>\n",
       "      <th>50%</th>\n",
       "      <td>35.800000</td>\n",
       "      <td>3.500000</td>\n",
       "      <td>321.000000</td>\n",
       "      <td>32.900000</td>\n",
       "      <td>92.500000</td>\n",
       "      <td>69.000000</td>\n",
       "      <td>2.000000</td>\n",
       "      <td>9.100000</td>\n",
       "    </tr>\n",
       "    <tr>\n",
       "      <th>75%</th>\n",
       "      <td>47.450000</td>\n",
       "      <td>5.800000</td>\n",
       "      <td>455.500000</td>\n",
       "      <td>43.100000</td>\n",
       "      <td>97.550000</td>\n",
       "      <td>108.500000</td>\n",
       "      <td>2.650000</td>\n",
       "      <td>11.750000</td>\n",
       "    </tr>\n",
       "    <tr>\n",
       "      <th>max</th>\n",
       "      <td>79.400000</td>\n",
       "      <td>30.800000</td>\n",
       "      <td>860.000000</td>\n",
       "      <td>66.100000</td>\n",
       "      <td>99.200000</td>\n",
       "      <td>510.000000</td>\n",
       "      <td>4.900000</td>\n",
       "      <td>32.900000</td>\n",
       "    </tr>\n",
       "  </tbody>\n",
       "</table>\n",
       "</div>"
      ],
      "text/plain": [
       "       Headcount Rate (%)  Severity of Poverty (%)  Number of Poor (ths)  \\\n",
       "count           47.000000                47.000000             47.000000   \n",
       "mean            40.557447                 5.306383            349.042553   \n",
       "std             16.291085                 5.254911            182.080125   \n",
       "min             16.700000                 0.500000             36.000000   \n",
       "25%             28.800000                 2.500000            231.000000   \n",
       "50%             35.800000                 3.500000            321.000000   \n",
       "75%             47.450000                 5.800000            455.500000   \n",
       "max             79.400000                30.800000            860.000000   \n",
       "\n",
       "       Proportion of households that sought credit (%)  \\\n",
       "count                                        47.000000   \n",
       "mean                                         33.082979   \n",
       "std                                          16.187170   \n",
       "min                                           5.500000   \n",
       "25%                                          21.300000   \n",
       "50%                                          32.900000   \n",
       "75%                                          43.100000   \n",
       "max                                          66.100000   \n",
       "\n",
       "       Proportion of households that sought and accessed credit (%)  \\\n",
       "count                                          47.000000              \n",
       "mean                                           85.814894              \n",
       "std                                            16.561138              \n",
       "min                                            33.900000              \n",
       "25%                                            84.050000              \n",
       "50%                                            92.500000              \n",
       "75%                                            97.550000              \n",
       "max                                            99.200000              \n",
       "\n",
       "       Number of Households that sought credit (ths)  \\\n",
       "count                                      47.000000   \n",
       "mean                                       81.851064   \n",
       "std                                        79.732972   \n",
       "min                                         4.000000   \n",
       "25%                                        39.500000   \n",
       "50%                                        69.000000   \n",
       "75%                                       108.500000   \n",
       "max                                       510.000000   \n",
       "\n",
       "       Distribution of the Poor (%)  Poverty Gap (%)  \n",
       "count                     47.000000        47.000000  \n",
       "mean                       2.127660        10.314894  \n",
       "std                        1.142404         6.053852  \n",
       "min                        0.200000         3.000000  \n",
       "25%                        1.300000         6.750000  \n",
       "50%                        2.000000         9.100000  \n",
       "75%                        2.650000        11.750000  \n",
       "max                        4.900000        32.900000  "
      ]
     },
     "execution_count": 5,
     "metadata": {},
     "output_type": "execute_result"
    }
   ],
   "source": [
    "# Display statistical summary\n",
    "data.describe()"
   ]
  },
  {
   "cell_type": "code",
   "execution_count": 6,
   "id": "a573edd0",
   "metadata": {},
   "outputs": [
    {
     "name": "stdout",
     "output_type": "stream",
     "text": [
      "                                                    Headcount Rate (%)  \\\n",
      "Headcount Rate (%)                                            1.000000   \n",
      "Severity of Poverty (%)                                       0.845491   \n",
      "Number of Poor (ths)                                          0.242787   \n",
      "Proportion of households that sought credit (%)              -0.413257   \n",
      "Proportion of households that sought and access...           -0.291743   \n",
      "Number of Households that sought credit (ths)                -0.511304   \n",
      "Distribution of the Poor (%)                                  0.148212   \n",
      "Poverty Gap (%)                                               0.890842   \n",
      "\n",
      "                                                    Severity of Poverty (%)  \\\n",
      "Headcount Rate (%)                                                 0.845491   \n",
      "Severity of Poverty (%)                                            1.000000   \n",
      "Number of Poor (ths)                                               0.343458   \n",
      "Proportion of households that sought credit (%)                   -0.453511   \n",
      "Proportion of households that sought and access...                -0.196998   \n",
      "Number of Households that sought credit (ths)                     -0.365494   \n",
      "Distribution of the Poor (%)                                       0.261713   \n",
      "Poverty Gap (%)                                                    0.938664   \n",
      "\n",
      "                                                    Number of Poor (ths)  \\\n",
      "Headcount Rate (%)                                              0.242787   \n",
      "Severity of Poverty (%)                                         0.343458   \n",
      "Number of Poor (ths)                                            1.000000   \n",
      "Proportion of households that sought credit (%)                -0.112674   \n",
      "Proportion of households that sought and access...              0.005557   \n",
      "Number of Households that sought credit (ths)                   0.443665   \n",
      "Distribution of the Poor (%)                                    0.960832   \n",
      "Poverty Gap (%)                                                 0.338119   \n",
      "\n",
      "                                                    Proportion of households that sought credit (%)  \\\n",
      "Headcount Rate (%)                                                                        -0.413257   \n",
      "Severity of Poverty (%)                                                                   -0.453511   \n",
      "Number of Poor (ths)                                                                      -0.112674   \n",
      "Proportion of households that sought credit (%)                                            1.000000   \n",
      "Proportion of households that sought and access...                                         0.458909   \n",
      "Number of Households that sought credit (ths)                                              0.365472   \n",
      "Distribution of the Poor (%)                                                              -0.039403   \n",
      "Poverty Gap (%)                                                                           -0.368285   \n",
      "\n",
      "                                                    Proportion of households that sought and accessed credit (%)  \\\n",
      "Headcount Rate (%)                                                                          -0.291743              \n",
      "Severity of Poverty (%)                                                                     -0.196998              \n",
      "Number of Poor (ths)                                                                         0.005557              \n",
      "Proportion of households that sought credit (%)                                              0.458909              \n",
      "Proportion of households that sought and access...                                           1.000000              \n",
      "Number of Households that sought credit (ths)                                                0.270559              \n",
      "Distribution of the Poor (%)                                                                 0.000058              \n",
      "Poverty Gap (%)                                                                             -0.194540              \n",
      "\n",
      "                                                    Number of Households that sought credit (ths)  \\\n",
      "Headcount Rate (%)                                                                      -0.511304   \n",
      "Severity of Poverty (%)                                                                 -0.365494   \n",
      "Number of Poor (ths)                                                                     0.443665   \n",
      "Proportion of households that sought credit (%)                                          0.365472   \n",
      "Proportion of households that sought and access...                                       0.270559   \n",
      "Number of Households that sought credit (ths)                                            1.000000   \n",
      "Distribution of the Poor (%)                                                             0.500975   \n",
      "Poverty Gap (%)                                                                         -0.391883   \n",
      "\n",
      "                                                    Distribution of the Poor (%)  \\\n",
      "Headcount Rate (%)                                                      0.148212   \n",
      "Severity of Poverty (%)                                                 0.261713   \n",
      "Number of Poor (ths)                                                    0.960832   \n",
      "Proportion of households that sought credit (%)                        -0.039403   \n",
      "Proportion of households that sought and access...                      0.000058   \n",
      "Number of Households that sought credit (ths)                           0.500975   \n",
      "Distribution of the Poor (%)                                            1.000000   \n",
      "Poverty Gap (%)                                                         0.304560   \n",
      "\n",
      "                                                    Poverty Gap (%)  \n",
      "Headcount Rate (%)                                         0.890842  \n",
      "Severity of Poverty (%)                                    0.938664  \n",
      "Number of Poor (ths)                                       0.338119  \n",
      "Proportion of households that sought credit (%)           -0.368285  \n",
      "Proportion of households that sought and access...        -0.194540  \n",
      "Number of Households that sought credit (ths)             -0.391883  \n",
      "Distribution of the Poor (%)                               0.304560  \n",
      "Poverty Gap (%)                                            1.000000  \n"
     ]
    }
   ],
   "source": [
    "# Calculate correlation matrix\n",
    "corr_matrix = data.corr()\n",
    "\n",
    "# Print correlation matrix\n",
    "print(corr_matrix)"
   ]
  },
  {
   "cell_type": "markdown",
   "id": "0e3020f6",
   "metadata": {},
   "source": [
    "#### <span style = \"color:brown;\">Observations and Inferences</span>\n",
    "1. **Severity_of_Poverty:** Has a _strong positive correlation_ with the `Headcount_Rate` and `Poverty_Gap`, and a _moderate positive correlation_ with the `Distribution_of_the_Poor` - important indicators.\n",
    "2. **Poverty_Gap:** Has a _strong positive correlation_ with the `Headcount_Rate` and `Severity_of_Poverty`, and a moderate positive correlation with the `Distribution_of_the_Poor`.\n",
    "3. **Distribution_of_the_Poor:** Has a moderate positive correlation with the `Severity_of_Poverty`, `Number of Poor (ths)`, and `Poverty_Gap` - may be a useful predictor."
   ]
  },
  {
   "cell_type": "markdown",
   "id": "e6b2ece4",
   "metadata": {},
   "source": [
    "### <span style = \"color:green;\">OLS Model</span>"
   ]
  },
  {
   "cell_type": "code",
   "execution_count": 7,
   "id": "a126fa21",
   "metadata": {},
   "outputs": [
    {
     "name": "stdout",
     "output_type": "stream",
     "text": [
      "                               OLS Regression Results                              \n",
      "===================================================================================\n",
      "Dep. Variable:     Severity of Poverty (%)   R-squared:                       0.882\n",
      "Model:                                 OLS   Adj. R-squared:                  0.874\n",
      "Method:                      Least Squares   F-statistic:                     107.1\n",
      "Date:                     Wed, 10 May 2023   Prob (F-statistic):           5.64e-20\n",
      "Time:                             15:16:52   Log-Likelihood:                -93.959\n",
      "No. Observations:                       47   AIC:                             195.9\n",
      "Df Residuals:                           43   BIC:                             203.3\n",
      "Df Model:                                3                                         \n",
      "Covariance Type:                 nonrobust                                         \n",
      "================================================================================================\n",
      "                                   coef    std err          t      P>|t|      [0.025      0.975]\n",
      "------------------------------------------------------------------------------------------------\n",
      "const                           -3.1021      0.989     -3.138      0.003      -5.096      -1.108\n",
      "Headcount Rate (%)               0.0102      0.039      0.263      0.794      -0.068       0.088\n",
      "Poverty Gap (%)                  0.7962      0.108      7.343      0.000       0.578       1.015\n",
      "Distribution of the Poor (%)    -0.1028      0.264     -0.389      0.699      -0.635       0.430\n",
      "==============================================================================\n",
      "Omnibus:                       22.217   Durbin-Watson:                   1.852\n",
      "Prob(Omnibus):                  0.000   Jarque-Bera (JB):               49.127\n",
      "Skew:                           1.230   Prob(JB):                     2.15e-11\n",
      "Kurtosis:                       7.362   Cond. No.                         167.\n",
      "==============================================================================\n",
      "\n",
      "Notes:\n",
      "[1] Standard Errors assume that the covariance matrix of the errors is correctly specified.\n"
     ]
    }
   ],
   "source": [
    "# Implement the OLS model\n",
    "X = data[['Headcount Rate (%)', 'Poverty Gap (%)', 'Distribution of the Poor (%)']]\n",
    "y = data['Severity of Poverty (%)']\n",
    "\n",
    "X = sm.add_constant(X)\n",
    "model = sm.OLS(y, X).fit()\n",
    "print(model.summary())"
   ]
  },
  {
   "cell_type": "markdown",
   "id": "b8dc1972",
   "metadata": {},
   "source": [
    "#### <span style = \"color:brown;\">Observations and Inferences</span>\n",
    "1. The `R-squared` value of the model is `0.882`, which indicates that _`88.2%` of the variation in the dependent \n",
    "variable is explained by the independent variables in the model_. \n",
    "2. The `adjusted R-squared` value of `0.874` also suggests that _the model is a good fit for the data_. \n",
    "3. The `F-statistic` and its associated `p-value` indicate that _the model is statistically significant_."
   ]
  },
  {
   "cell_type": "markdown",
   "id": "c4c54728",
   "metadata": {},
   "source": [
    "`Poverty Gap (%)` has a `positive coefficient of 0.7962`, indicating that an _increase in poverty \n",
    "gap leads to an increase in severity of poverty_. \n",
    "<br>`Distribution of the Poor (%)` has a `negative coefficient of -0.1028`, indicating that _an \n",
    "increase in the proportion of the poor in more vulnerable sections of society leads to a decrease in the \n",
    "severity of poverty_ (interesting). \n",
    "<br>However, `Headcount Rate (%)` has a coefficient of only `0.0102`, which \n",
    "is `not statistically significant`, and therefore, we _cannot infer any significant relationship \n",
    "between headcount rate and severity of poverty_."
   ]
  },
  {
   "cell_type": "markdown",
   "id": "046bca63",
   "metadata": {},
   "source": [
    "### <span style = 'color:green;'>Root Mean Square Error</span>"
   ]
  },
  {
   "cell_type": "code",
   "execution_count": 8,
   "id": "5232591e",
   "metadata": {},
   "outputs": [
    {
     "name": "stdout",
     "output_type": "stream",
     "text": [
      "RMSE: 1.7863860335702446\n"
     ]
    }
   ],
   "source": [
    "from sklearn.metrics import mean_squared_error\n",
    "\n",
    "y_pred = model.predict(X)\n",
    "rmse = mean_squared_error(y, y_pred, squared=False)\n",
    "print('RMSE:', rmse)"
   ]
  },
  {
   "cell_type": "markdown",
   "id": "08c786d1",
   "metadata": {},
   "source": [
    "#### <span style = \"color:brown;\">Observations and Inferences</span>\n",
    "The RMSE value of `1.7863860335702446` is **moderately high**, which suggests that _the model may not be \n",
    "suitable for accurately predicting the severity of poverty based on these independent variables \n",
    "alone_. \n",
    "<br>Therefore, it may be necessary to explore other variables that could be relevant to predicting \n",
    "poverty severity."
   ]
  },
  {
   "cell_type": "markdown",
   "id": "4d004b5d",
   "metadata": {},
   "source": [
    "### <span style = 'color:green;'>Conclusion</span>\n",
    "1. The variation in the severity of poverty can be explained by the independent variables in the model.\n",
    "2. An increase in the poverty gap leads to a higher severity of poverty.\n",
    "3. An increase in the proportion of the poor in more vulnerable sections of society is associated \n",
    "with a decrease in the severity of poverty.\n",
    "4. There is insufficient evidence to support a significant relationship between headcount rate and \n",
    "severity of poverty."
   ]
  }
 ],
 "metadata": {
  "kernelspec": {
   "display_name": "Python 3 (ipykernel)",
   "language": "python",
   "name": "python3"
  },
  "language_info": {
   "codemirror_mode": {
    "name": "ipython",
    "version": 3
   },
   "file_extension": ".py",
   "mimetype": "text/x-python",
   "name": "python",
   "nbconvert_exporter": "python",
   "pygments_lexer": "ipython3",
   "version": "3.10.6"
  }
 },
 "nbformat": 4,
 "nbformat_minor": 5
}
